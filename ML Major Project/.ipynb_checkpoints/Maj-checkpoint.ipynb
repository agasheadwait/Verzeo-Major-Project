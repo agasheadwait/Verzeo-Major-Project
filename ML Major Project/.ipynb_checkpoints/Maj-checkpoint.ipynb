{
 "cells": [
  {
   "cell_type": "code",
   "execution_count": 1,
   "metadata": {},
   "outputs": [],
   "source": [
    "import numpy as np\n",
    "import pandas as pd\n",
    "import matplotlib.pyplot as plt\n",
    "import seaborn as sns\n",
    "import re\n",
    "\n",
    "from sklearn.model_selection import train_test_split\n",
    "from sklearn.metrics import r2_score , mean_absolute_error,mean_squared_error\n",
    "from sklearn.linear_model import LinearRegression\n",
    "from sklearn.tree import DecisionTreeRegressor\n",
    "from sklearn.ensemble import RandomForestRegressor \n",
    "from sklearn.model_selection import GridSearchCV \n",
    "from sklearn.preprocessing import LabelEncoder, OneHotEncoder\n",
    "\n",
    "%matplotlib inline"
   ]
  },
  {
   "cell_type": "code",
   "execution_count": 2,
   "metadata": {},
   "outputs": [
    {
     "name": "stdout",
     "output_type": "stream",
     "text": [
      "<class 'pandas.core.frame.DataFrame'>\n",
      "RangeIndex: 6019 entries, 0 to 6018\n",
      "Data columns (total 12 columns):\n",
      "Name                 6019 non-null object\n",
      "Location             6019 non-null object\n",
      "Year                 6019 non-null int64\n",
      "Kilometers_Driven    6019 non-null int64\n",
      "Fuel_Type            6019 non-null object\n",
      "Transmission         6019 non-null object\n",
      "Owner_Type           6019 non-null object\n",
      "Mileage              6017 non-null object\n",
      "Engine               5983 non-null object\n",
      "Power                5983 non-null object\n",
      "Seats                5977 non-null float64\n",
      "Price                6019 non-null float64\n",
      "dtypes: float64(2), int64(2), object(8)\n",
      "memory usage: 564.4+ KB\n",
      "<class 'pandas.core.frame.DataFrame'>\n",
      "RangeIndex: 6019 entries, 0 to 6018\n",
      "Data columns (total 12 columns):\n",
      "Name                 6019 non-null object\n",
      "Location             6019 non-null object\n",
      "Year                 6019 non-null int64\n",
      "Kilometers_Driven    6019 non-null int64\n",
      "Fuel_Type            6019 non-null object\n",
      "Transmission         6019 non-null object\n",
      "Owner_Type           6019 non-null object\n",
      "Mileage              6017 non-null object\n",
      "Engine               5983 non-null object\n",
      "Power                5983 non-null object\n",
      "Seats                5977 non-null float64\n",
      "Price                6019 non-null float64\n",
      "dtypes: float64(2), int64(2), object(8)\n",
      "memory usage: 564.4+ KB\n"
     ]
    },
    {
     "data": {
      "image/png": "[encoded data removed]",
      "text/plain": [
       "<Figure size 1080x360 with 3 Axes>"
      ]
     },
     "metadata": {
      "needs_background": "light"
     },
     "output_type": "display_data"
    }
   ],
   "source": [
    "data = pd.read_excel('Data_Train (1).xlsx')\n",
    "\n",
    "data.head()\n",
    "\n",
    "data.columns\n",
    "\n",
    "data.describe()\n",
    "\n",
    "data.info()\n",
    "\n",
    "data.isnull().sum()\n",
    "\n",
    "# Removing units\n",
    "\n",
    "data['Power'] = data['Power'].str.split(' ').str[0]\n",
    "# including nan rows there is data in this column of 'null' value\n",
    "data.loc[data.Power == 'null','Power'] = np.NaN\n",
    "\n",
    "data['Mileage'] = data['Mileage'].apply(lambda x: re.sub('[$kmpl|km/kg]','',str(x)))\n",
    "data['Engine'] = data['Engine'].apply(lambda x: re.sub('[$CC]','',str(x)))\n",
    "data['Power'] = data['Power'].apply(lambda x: re.sub('[$bhp]','',str(x)))\n",
    "\n",
    "data.head()\n",
    "\n",
    "data['Mileage'] = pd.to_numeric(data['Mileage'],errors='coerce')\n",
    "data['Engine'] = pd.to_numeric(data['Engine'],errors='coerce')\n",
    "data['Power'] = pd.to_numeric(data['Power'],errors='coerce')\n",
    "\n",
    "# Removing Outlayers\n",
    "\n",
    "\n",
    "data.drop(data[data['Kilometers_Driven'] >= 6500000].index, axis=0, inplace=True)\n",
    "\n",
    "\n",
    "(data['Mileage']==0).sum(),(data['Engine']==0).sum(),(data['Power']==0).sum(),(data['Seats']==0).sum()\n",
    "\n",
    "mileage_median = data['Mileage'].median()\n",
    "engine_median = data['Engine'].median()\n",
    "power_midean = data['Power'].median()\n",
    "seats_mode = data['Seats'].mode()\n",
    "data['Mileage'].median(),data['Engine'].median(),data['Power'].median(),data['Seats'].mode()\n",
    "\n",
    "seats_mode = 5\n",
    "data['Mileage'].replace(0,mileage_median,inplace = True)\n",
    "data['Seats'].replace(0,seats_mode,inplace = True)\n",
    "data['Mileage'].median(),data['Engine'].median(),data['Power'].median(),data['Seats'].mode()\n",
    "        \n",
    "\n",
    "(data['Mileage']==0).sum(),(data['Engine']==0).sum(),(data['Power']==0).sum(),(data['Seats']==0).sum()\n",
    "\n",
    "data\n",
    "\n",
    "data.isnull().sum()\n",
    "\n",
    "data = pd.read_excel('Data_Train (1).xlsx')\n",
    "\n",
    "data.head()\n",
    "\n",
    "data.columns\n",
    "\n",
    "data.describe()\n",
    "\n",
    "data.info()\n",
    "\n",
    "data.isnull().sum()\n",
    "\n",
    "# Removing units\n",
    "\n",
    "data['Power'] = data['Power'].str.split(' ').str[0]\n",
    "# including nan rows there is data in this column of 'null' value\n",
    "data.loc[data.Power == 'null','Power'] = np.NaN\n",
    "\n",
    "data['Mileage'] = data['Mileage'].apply(lambda x: re.sub('[$kmpl|km/kg]','',str(x)))\n",
    "data['Engine'] = data['Engine'].apply(lambda x: re.sub('[$CC]','',str(x)))\n",
    "data['Power'] = data['Power'].apply(lambda x: re.sub('[$bhp]','',str(x)))\n",
    "\n",
    "data.head()\n",
    "\n",
    "data['Mileage'] = pd.to_numeric(data['Mileage'],errors='coerce')\n",
    "data['Engine'] = pd.to_numeric(data['Engine'],errors='coerce')\n",
    "data['Power'] = pd.to_numeric(data['Power'],errors='coerce')\n",
    "\n",
    "# Removing Outlayers\n",
    "\n",
    "\n",
    "data.drop(data[data['Kilometers_Driven'] >= 6500000].index, axis=0, inplace=True)\n",
    "\n",
    "\n",
    "(data['Mileage']==0).sum(),(data['Engine']==0).sum(),(data['Power']==0).sum(),(data['Seats']==0).sum()\n",
    "\n",
    "mileage_median = data['Mileage'].median()\n",
    "engine_median = data['Engine'].median()\n",
    "power_midean = data['Power'].median()\n",
    "seats_mode = data['Seats'].mode()\n",
    "data['Mileage'].median(),data['Engine'].median(),data['Power'].median(),data['Seats'].mode()\n",
    "\n",
    "seats_mode = 5\n",
    "data['Mileage'].replace(0,mileage_median,inplace = True)\n",
    "data['Seats'].replace(0,seats_mode,inplace = True)\n",
    "data['Mileage'].median(),data['Engine'].median(),data['Power'].median(),data['Seats'].mode()\n",
    "        \n",
    "\n",
    "(data['Mileage']==0).sum(),(data['Engine']==0).sum(),(data['Power']==0).sum(),(data['Seats']==0).sum()\n",
    "\n",
    "# Filling Null Values\n",
    "\n",
    "plt.figure(figsize=(15,5))\n",
    "plt.subplot(1,3,1)\n",
    "sns.boxplot(data['Mileage'])\n",
    "\n",
    "plt.subplot(1,3,2)\n",
    "sns.boxplot(data['Engine'])\n",
    "\n",
    "plt.subplot(1,3,3)\n",
    "sns.boxplot(data['Power'])\n",
    "plt.show()\n",
    "\n",
    "data['Mileage'].fillna(data['Mileage'].median(),inplace=True)\n",
    "data['Engine'].fillna(data['Engine'].median(),inplace=True)\n",
    "data['Power'].fillna(data['Power'].median(),inplace=True)\n",
    "data['Seats'].fillna(data['Seats'].median(),inplace=True)\n",
    "\n",
    "data.isnull().sum()\n",
    "\n",
    "CarName = data.Name.str.split(' ').apply(lambda x: x[0])\n",
    "CarBodyStyle = data.Name.str.split(' ').apply(lambda x: x[1])\n",
    "CarTrimLevel = data.Name.str.split(' ').apply(lambda x: x[2:])"
   ]
  },
  {
   "cell_type": "code",
   "execution_count": 3,
   "metadata": {},
   "outputs": [
    {
     "data": {
      "text/html": [
       "<div>\n",
       "<style scoped>\n",
       "    .dataframe tbody tr th:only-of-type {\n",
       "        vertical-align: middle;\n",
       "    }\n",
       "\n",
       "    .dataframe tbody tr th {\n",
       "        vertical-align: top;\n",
       "    }\n",
       "\n",
       "    .dataframe thead th {\n",
       "        text-align: right;\n",
       "    }\n",
       "</style>\n",
       "<table border=\"1\" class=\"dataframe\">\n",
       "  <thead>\n",
       "    <tr style=\"text-align: right;\">\n",
       "      <th></th>\n",
       "      <th>Location</th>\n",
       "      <th>Year</th>\n",
       "      <th>Kilometers_Driven</th>\n",
       "      <th>Fuel_Type</th>\n",
       "      <th>Transmission</th>\n",
       "      <th>Owner_Type</th>\n",
       "      <th>Mileage</th>\n",
       "      <th>Engine</th>\n",
       "      <th>Power</th>\n",
       "      <th>Seats</th>\n",
       "      <th>Price</th>\n",
       "      <th>CarName</th>\n",
       "      <th>BodyStyle</th>\n",
       "    </tr>\n",
       "  </thead>\n",
       "  <tbody>\n",
       "    <tr>\n",
       "      <th>0</th>\n",
       "      <td>Mumbai</td>\n",
       "      <td>2010</td>\n",
       "      <td>72000</td>\n",
       "      <td>CNG</td>\n",
       "      <td>Manual</td>\n",
       "      <td>First</td>\n",
       "      <td>26.60</td>\n",
       "      <td>998.0</td>\n",
       "      <td>58.16</td>\n",
       "      <td>5.0</td>\n",
       "      <td>1.75</td>\n",
       "      <td>Maruti</td>\n",
       "      <td>Wagon</td>\n",
       "    </tr>\n",
       "    <tr>\n",
       "      <th>1</th>\n",
       "      <td>Pune</td>\n",
       "      <td>2015</td>\n",
       "      <td>41000</td>\n",
       "      <td>Diesel</td>\n",
       "      <td>Manual</td>\n",
       "      <td>First</td>\n",
       "      <td>19.67</td>\n",
       "      <td>1582.0</td>\n",
       "      <td>126.20</td>\n",
       "      <td>5.0</td>\n",
       "      <td>12.50</td>\n",
       "      <td>Hyundai</td>\n",
       "      <td>Creta</td>\n",
       "    </tr>\n",
       "    <tr>\n",
       "      <th>2</th>\n",
       "      <td>Chennai</td>\n",
       "      <td>2011</td>\n",
       "      <td>46000</td>\n",
       "      <td>Petrol</td>\n",
       "      <td>Manual</td>\n",
       "      <td>First</td>\n",
       "      <td>18.20</td>\n",
       "      <td>1199.0</td>\n",
       "      <td>88.70</td>\n",
       "      <td>5.0</td>\n",
       "      <td>4.50</td>\n",
       "      <td>Honda</td>\n",
       "      <td>Jazz</td>\n",
       "    </tr>\n",
       "    <tr>\n",
       "      <th>3</th>\n",
       "      <td>Chennai</td>\n",
       "      <td>2012</td>\n",
       "      <td>87000</td>\n",
       "      <td>Diesel</td>\n",
       "      <td>Manual</td>\n",
       "      <td>First</td>\n",
       "      <td>20.77</td>\n",
       "      <td>1248.0</td>\n",
       "      <td>88.76</td>\n",
       "      <td>7.0</td>\n",
       "      <td>6.00</td>\n",
       "      <td>Maruti</td>\n",
       "      <td>Ertiga</td>\n",
       "    </tr>\n",
       "    <tr>\n",
       "      <th>4</th>\n",
       "      <td>Coimbatore</td>\n",
       "      <td>2013</td>\n",
       "      <td>40670</td>\n",
       "      <td>Diesel</td>\n",
       "      <td>Automatic</td>\n",
       "      <td>Second</td>\n",
       "      <td>15.20</td>\n",
       "      <td>1968.0</td>\n",
       "      <td>140.80</td>\n",
       "      <td>5.0</td>\n",
       "      <td>17.74</td>\n",
       "      <td>Audi</td>\n",
       "      <td>A4</td>\n",
       "    </tr>\n",
       "  </tbody>\n",
       "</table>\n",
       "</div>"
      ],
      "text/plain": [
       "     Location  Year  Kilometers_Driven Fuel_Type Transmission Owner_Type  \\\n",
       "0      Mumbai  2010              72000       CNG       Manual      First   \n",
       "1        Pune  2015              41000    Diesel       Manual      First   \n",
       "2     Chennai  2011              46000    Petrol       Manual      First   \n",
       "3     Chennai  2012              87000    Diesel       Manual      First   \n",
       "4  Coimbatore  2013              40670    Diesel    Automatic     Second   \n",
       "\n",
       "   Mileage  Engine   Power  Seats  Price  CarName BodyStyle  \n",
       "0    26.60   998.0   58.16    5.0   1.75   Maruti     Wagon  \n",
       "1    19.67  1582.0  126.20    5.0  12.50  Hyundai     Creta  \n",
       "2    18.20  1199.0   88.70    5.0   4.50    Honda      Jazz  \n",
       "3    20.77  1248.0   88.76    7.0   6.00   Maruti    Ertiga  \n",
       "4    15.20  1968.0  140.80    5.0  17.74     Audi        A4  "
      ]
     },
     "execution_count": 3,
     "metadata": {},
     "output_type": "execute_result"
    }
   ],
   "source": [
    "CarName = pd.Series(CarName,name=\"CarName\")\n",
    "BodyStyle = pd.Series(CarBodyStyle,name=\"BodyStyle\")\n",
    "data=pd.concat([data,CarName,BodyStyle],axis=1)\n",
    "data.drop('Name',axis=1,inplace=True)\n",
    "data.head()"
   ]
  },
  {
   "cell_type": "code",
   "execution_count": 4,
   "metadata": {},
   "outputs": [],
   "source": [
    "data['Year'] = data['Year'].astype(float)\n",
    "data['Kilometers_Driven'] = data['Kilometers_Driven'].astype(float)"
   ]
  },
  {
   "cell_type": "code",
   "execution_count": 5,
   "metadata": {},
   "outputs": [
    {
     "data": {
      "text/plain": [
       "Location              object\n",
       "Year                 float64\n",
       "Kilometers_Driven    float64\n",
       "Fuel_Type             object\n",
       "Transmission          object\n",
       "Owner_Type            object\n",
       "Mileage              float64\n",
       "Engine               float64\n",
       "Power                float64\n",
       "Seats                float64\n",
       "Price                float64\n",
       "CarName               object\n",
       "BodyStyle             object\n",
       "dtype: object"
      ]
     },
     "execution_count": 5,
     "metadata": {},
     "output_type": "execute_result"
    }
   ],
   "source": [
    "data.dtypes"
   ]
  },
  {
   "cell_type": "code",
   "execution_count": 6,
   "metadata": {},
   "outputs": [],
   "source": [
    "data.loc[data.CarName == 'ISUZU','CarName']='Isuzu'"
   ]
  },
  {
   "cell_type": "code",
   "execution_count": 7,
   "metadata": {},
   "outputs": [
    {
     "data": {
      "text/plain": [
       "Index(['Location', 'Year', 'Kilometers_Driven', 'Fuel_Type', 'Transmission',\n",
       "       'Owner_Type', 'Mileage', 'Engine', 'Power', 'Seats', 'Price', 'CarName',\n",
       "       'BodyStyle'],\n",
       "      dtype='object')"
      ]
     },
     "execution_count": 7,
     "metadata": {},
     "output_type": "execute_result"
    }
   ],
   "source": [
    "data.columns"
   ]
  },
  {
   "cell_type": "code",
   "execution_count": 8,
   "metadata": {},
   "outputs": [
    {
     "data": {
      "text/html": [
       "<div>\n",
       "<style scoped>\n",
       "    .dataframe tbody tr th:only-of-type {\n",
       "        vertical-align: middle;\n",
       "    }\n",
       "\n",
       "    .dataframe tbody tr th {\n",
       "        vertical-align: top;\n",
       "    }\n",
       "\n",
       "    .dataframe thead th {\n",
       "        text-align: right;\n",
       "    }\n",
       "</style>\n",
       "<table border=\"1\" class=\"dataframe\">\n",
       "  <thead>\n",
       "    <tr style=\"text-align: right;\">\n",
       "      <th></th>\n",
       "      <th>Year</th>\n",
       "      <th>Kilometers_Driven</th>\n",
       "      <th>Mileage</th>\n",
       "      <th>Engine</th>\n",
       "      <th>Power</th>\n",
       "      <th>Seats</th>\n",
       "      <th>Price</th>\n",
       "      <th>Location_Ahmedabad</th>\n",
       "      <th>Location_Bangalore</th>\n",
       "      <th>Location_Chennai</th>\n",
       "      <th>...</th>\n",
       "      <th>BodyStyle_Xcent</th>\n",
       "      <th>BodyStyle_Xenon</th>\n",
       "      <th>BodyStyle_Xylo</th>\n",
       "      <th>BodyStyle_Yeti</th>\n",
       "      <th>BodyStyle_Z4</th>\n",
       "      <th>BodyStyle_Zen</th>\n",
       "      <th>BodyStyle_Zest</th>\n",
       "      <th>BodyStyle_i10</th>\n",
       "      <th>BodyStyle_i20</th>\n",
       "      <th>BodyStyle_redi-GO</th>\n",
       "    </tr>\n",
       "  </thead>\n",
       "  <tbody>\n",
       "    <tr>\n",
       "      <th>0</th>\n",
       "      <td>2010.0</td>\n",
       "      <td>72000.0</td>\n",
       "      <td>26.60</td>\n",
       "      <td>998.0</td>\n",
       "      <td>58.16</td>\n",
       "      <td>5.0</td>\n",
       "      <td>1.75</td>\n",
       "      <td>0.0</td>\n",
       "      <td>0.0</td>\n",
       "      <td>0.0</td>\n",
       "      <td>...</td>\n",
       "      <td>0.0</td>\n",
       "      <td>0.0</td>\n",
       "      <td>0.0</td>\n",
       "      <td>0.0</td>\n",
       "      <td>0.0</td>\n",
       "      <td>0.0</td>\n",
       "      <td>0.0</td>\n",
       "      <td>0.0</td>\n",
       "      <td>0.0</td>\n",
       "      <td>0.0</td>\n",
       "    </tr>\n",
       "    <tr>\n",
       "      <th>1</th>\n",
       "      <td>2015.0</td>\n",
       "      <td>41000.0</td>\n",
       "      <td>19.67</td>\n",
       "      <td>1582.0</td>\n",
       "      <td>126.20</td>\n",
       "      <td>5.0</td>\n",
       "      <td>12.50</td>\n",
       "      <td>0.0</td>\n",
       "      <td>0.0</td>\n",
       "      <td>0.0</td>\n",
       "      <td>...</td>\n",
       "      <td>0.0</td>\n",
       "      <td>0.0</td>\n",
       "      <td>0.0</td>\n",
       "      <td>0.0</td>\n",
       "      <td>0.0</td>\n",
       "      <td>0.0</td>\n",
       "      <td>0.0</td>\n",
       "      <td>0.0</td>\n",
       "      <td>0.0</td>\n",
       "      <td>0.0</td>\n",
       "    </tr>\n",
       "    <tr>\n",
       "      <th>2</th>\n",
       "      <td>2011.0</td>\n",
       "      <td>46000.0</td>\n",
       "      <td>18.20</td>\n",
       "      <td>1199.0</td>\n",
       "      <td>88.70</td>\n",
       "      <td>5.0</td>\n",
       "      <td>4.50</td>\n",
       "      <td>0.0</td>\n",
       "      <td>0.0</td>\n",
       "      <td>1.0</td>\n",
       "      <td>...</td>\n",
       "      <td>0.0</td>\n",
       "      <td>0.0</td>\n",
       "      <td>0.0</td>\n",
       "      <td>0.0</td>\n",
       "      <td>0.0</td>\n",
       "      <td>0.0</td>\n",
       "      <td>0.0</td>\n",
       "      <td>0.0</td>\n",
       "      <td>0.0</td>\n",
       "      <td>0.0</td>\n",
       "    </tr>\n",
       "    <tr>\n",
       "      <th>3</th>\n",
       "      <td>2012.0</td>\n",
       "      <td>87000.0</td>\n",
       "      <td>20.77</td>\n",
       "      <td>1248.0</td>\n",
       "      <td>88.76</td>\n",
       "      <td>7.0</td>\n",
       "      <td>6.00</td>\n",
       "      <td>0.0</td>\n",
       "      <td>0.0</td>\n",
       "      <td>1.0</td>\n",
       "      <td>...</td>\n",
       "      <td>0.0</td>\n",
       "      <td>0.0</td>\n",
       "      <td>0.0</td>\n",
       "      <td>0.0</td>\n",
       "      <td>0.0</td>\n",
       "      <td>0.0</td>\n",
       "      <td>0.0</td>\n",
       "      <td>0.0</td>\n",
       "      <td>0.0</td>\n",
       "      <td>0.0</td>\n",
       "    </tr>\n",
       "    <tr>\n",
       "      <th>4</th>\n",
       "      <td>2013.0</td>\n",
       "      <td>40670.0</td>\n",
       "      <td>15.20</td>\n",
       "      <td>1968.0</td>\n",
       "      <td>140.80</td>\n",
       "      <td>5.0</td>\n",
       "      <td>17.74</td>\n",
       "      <td>0.0</td>\n",
       "      <td>0.0</td>\n",
       "      <td>0.0</td>\n",
       "      <td>...</td>\n",
       "      <td>0.0</td>\n",
       "      <td>0.0</td>\n",
       "      <td>0.0</td>\n",
       "      <td>0.0</td>\n",
       "      <td>0.0</td>\n",
       "      <td>0.0</td>\n",
       "      <td>0.0</td>\n",
       "      <td>0.0</td>\n",
       "      <td>0.0</td>\n",
       "      <td>0.0</td>\n",
       "    </tr>\n",
       "  </tbody>\n",
       "</table>\n",
       "<p>5 rows × 271 columns</p>\n",
       "</div>"
      ],
      "text/plain": [
       "     Year  Kilometers_Driven  Mileage  Engine   Power  Seats  Price  \\\n",
       "0  2010.0            72000.0    26.60   998.0   58.16    5.0   1.75   \n",
       "1  2015.0            41000.0    19.67  1582.0  126.20    5.0  12.50   \n",
       "2  2011.0            46000.0    18.20  1199.0   88.70    5.0   4.50   \n",
       "3  2012.0            87000.0    20.77  1248.0   88.76    7.0   6.00   \n",
       "4  2013.0            40670.0    15.20  1968.0  140.80    5.0  17.74   \n",
       "\n",
       "   Location_Ahmedabad  Location_Bangalore  Location_Chennai  ...  \\\n",
       "0                 0.0                 0.0               0.0  ...   \n",
       "1                 0.0                 0.0               0.0  ...   \n",
       "2                 0.0                 0.0               1.0  ...   \n",
       "3                 0.0                 0.0               1.0  ...   \n",
       "4                 0.0                 0.0               0.0  ...   \n",
       "\n",
       "   BodyStyle_Xcent  BodyStyle_Xenon  BodyStyle_Xylo  BodyStyle_Yeti  \\\n",
       "0              0.0              0.0             0.0             0.0   \n",
       "1              0.0              0.0             0.0             0.0   \n",
       "2              0.0              0.0             0.0             0.0   \n",
       "3              0.0              0.0             0.0             0.0   \n",
       "4              0.0              0.0             0.0             0.0   \n",
       "\n",
       "   BodyStyle_Z4  BodyStyle_Zen  BodyStyle_Zest  BodyStyle_i10  BodyStyle_i20  \\\n",
       "0           0.0            0.0             0.0            0.0            0.0   \n",
       "1           0.0            0.0             0.0            0.0            0.0   \n",
       "2           0.0            0.0             0.0            0.0            0.0   \n",
       "3           0.0            0.0             0.0            0.0            0.0   \n",
       "4           0.0            0.0             0.0            0.0            0.0   \n",
       "\n",
       "   BodyStyle_redi-GO  \n",
       "0                0.0  \n",
       "1                0.0  \n",
       "2                0.0  \n",
       "3                0.0  \n",
       "4                0.0  \n",
       "\n",
       "[5 rows x 271 columns]"
      ]
     },
     "execution_count": 8,
     "metadata": {},
     "output_type": "execute_result"
    }
   ],
   "source": [
    "data= pd.get_dummies(data,dtype = np.float64)\n",
    "\n",
    "data.head()"
   ]
  },
  {
   "cell_type": "code",
   "execution_count": 9,
   "metadata": {},
   "outputs": [],
   "source": [
    "data.dropna(inplace=True)"
   ]
  },
  {
   "cell_type": "code",
   "execution_count": 10,
   "metadata": {},
   "outputs": [
    {
     "data": {
      "text/plain": [
       "array([ 1.75, 12.5 ,  4.5 , ...,  2.9 ,  2.65,  2.5 ])"
      ]
     },
     "execution_count": 10,
     "metadata": {},
     "output_type": "execute_result"
    }
   ],
   "source": [
    "X = data.drop(['Price'], axis = 1)\n",
    "y = data.iloc[:, 6].values\n",
    "y"
   ]
  },
  {
   "cell_type": "code",
   "execution_count": 11,
   "metadata": {},
   "outputs": [
    {
     "data": {
      "text/plain": [
       "(0.8119612142304287, 2.5652491900055177, 25.8311362535715)"
      ]
     },
     "execution_count": 11,
     "metadata": {},
     "output_type": "execute_result"
    }
   ],
   "source": [
    "X_train, X_test, y_train, y_test = train_test_split(X, y, test_size = 0.2, random_state = 0)\n",
    "\n",
    "regressor = LinearRegression()\n",
    "regressor.fit(X_train, y_train)\n",
    "\n",
    "y_pred = regressor.predict(X_test)\n",
    "\n",
    "r2_score(y_test,y_pred),mean_absolute_error(y_test,y_pred),mean_squared_error(y_test,y_pred)\n",
    "#Without TrimLevel (0.8119612142304287, 2.5652491900055177, 25.8311362535715"
   ]
  },
  {
   "cell_type": "code",
   "execution_count": 13,
   "metadata": {},
   "outputs": [
    {
     "data": {
      "text/plain": [
       "<matplotlib.axes._subplots.AxesSubplot at 0x7fdb0ba63048>"
      ]
     },
     "execution_count": 13,
     "metadata": {},
     "output_type": "execute_result"
    },
    {
     "data": {
      "image/png": "[encoded data removed]",
      "text/plain": [
       "<Figure size 432x288 with 1 Axes>"
      ]
     },
     "metadata": {
      "needs_background": "light"
     },
     "output_type": "display_data"
    }
   ],
   "source": [
    "sns.kdeplot(y_pred)\n",
    "sns.kdeplot(y_test)"
   ]
  },
  {
   "cell_type": "code",
   "execution_count": 14,
   "metadata": {},
   "outputs": [
    {
     "data": {
      "text/plain": [
       "(0.8874549564774823, 1.4738172402903018, 15.4604612128097)"
      ]
     },
     "execution_count": 14,
     "metadata": {},
     "output_type": "execute_result"
    }
   ],
   "source": [
    "rfr = RandomForestRegressor(n_estimators = 500,random_state=0)\n",
    "\n",
    "rfr.fit(X_train,y_train)\n",
    "\n",
    "pred = rfr.predict(X_test)\n",
    "#Best for random state 6\n",
    "\n",
    "r2_score(y_test,pred),mean_absolute_error(y_test,pred),mean_squared_error(y_test,pred)\n",
    "\n",
    "#Without TrimLevel (0.8874549564774823, 1.4738172402903018, 15.4604612128097)"
   ]
  },
  {
   "cell_type": "code",
   "execution_count": 15,
   "metadata": {},
   "outputs": [
    {
     "data": {
      "text/plain": [
       "<matplotlib.axes._subplots.AxesSubplot at 0x7fdb0bb430b8>"
      ]
     },
     "execution_count": 15,
     "metadata": {},
     "output_type": "execute_result"
    },
    {
     "data": {
      "image/png": "[encoded data removed]",
      "text/plain": [
       "<Figure size 432x288 with 1 Axes>"
      ]
     },
     "metadata": {
      "needs_background": "light"
     },
     "output_type": "display_data"
    }
   ],
   "source": [
    "sns.kdeplot(pred)\n",
    "sns.kdeplot(y_test)"
   ]
  },
  {
   "cell_type": "code",
   "execution_count": 30,
   "metadata": {},
   "outputs": [
    {
     "name": "stdout",
     "output_type": "stream",
     "text": [
      "0.8904448620077084 1.4090902489053032 15.049733942792002\n",
      "0.8954191294179764 1.3939486248017396 14.366412261520408\n",
      "0.8910267570210055 1.4028009305621478 14.969798256586447\n",
      "0.8881344334690933 1.4053871804123346 15.367120561413556\n",
      "0.8942134554124471 1.3962914316250072 14.532037291413877\n"
     ]
    }
   ],
   "source": [
    "from sklearn.ensemble import AdaBoostRegressor\n",
    "\n",
    "for i in [11,12,13,14,15]:\n",
    "    ada = AdaBoostRegressor(base_estimator = RandomForestRegressor(n_estimators = 150,random_state=i))\n",
    "\n",
    "    ada.fit(X_train,y_train)\n",
    "\n",
    "    pred_3 = ada.predict(X_test)\n",
    "\n",
    "    print(r2_score(y_test,pred_3),mean_absolute_error(y_test,pred_3),mean_squared_error(y_test,pred_3))\n",
    "\n",
    "#Without TrimLevel (0.8945998415655947, 1.3900536850829128 , 14.478958915441602)\n",
    "#For random_state 8 = 0.8982582531398402 1.3824229104892893 13.97639808758247"
   ]
  },
  {
   "cell_type": "code",
   "execution_count": null,
   "metadata": {},
   "outputs": [],
   "source": []
  },
  {
   "cell_type": "code",
   "execution_count": 250,
   "metadata": {},
   "outputs": [
    {
     "data": {
      "text/plain": [
       "(0.8885108274551354, 1.3747020556186125, 15.315414822628394)"
      ]
     },
     "execution_count": 250,
     "metadata": {},
     "output_type": "execute_result"
    }
   ],
   "source": [
    "from xgboost import XGBRegressor\n",
    "\n",
    "xgbr = XGBRegressor(objective='reg:squarederror')\n",
    "\n",
    "xgbr.fit(X_train,y_train)\n",
    "\n",
    "y_pred_xgb = xgbr.predict(X_test)\n",
    "\n",
    "r2_score(y_test,y_pred_xgb),mean_absolute_error(y_test,y_pred_xgb),mean_squared_error(y_test,y_pred_xgb)\n",
    "# Without TrimLevel (0.8885108274551354, 1.3747020556186125, 15.315414822628394)"
   ]
  },
  {
   "cell_type": "code",
   "execution_count": 251,
   "metadata": {},
   "outputs": [
    {
     "data": {
      "text/plain": [
       "<matplotlib.axes._subplots.AxesSubplot at 0x7f50630e39e8>"
      ]
     },
     "execution_count": 251,
     "metadata": {},
     "output_type": "execute_result"
    },
    {
     "data": {
      "image/png": "[encoded data removed]",
      "text/plain": [
       "<Figure size 432x288 with 2 Axes>"
      ]
     },
     "metadata": {
      "needs_background": "light"
     },
     "output_type": "display_data"
    }
   ],
   "source": [
    "feat_imp = pd.DataFrame(xgbr.feature_importances_, index=X_train.columns)\n",
    "sns.heatmap(feat_imp, cmap='Purples')"
   ]
  },
  {
   "cell_type": "code",
   "execution_count": 252,
   "metadata": {},
   "outputs": [
    {
     "data": {
      "text/plain": [
       "(0.8182205478633929, 2.016957364341085, 27.419284198504982)"
      ]
     },
     "execution_count": 252,
     "metadata": {},
     "output_type": "execute_result"
    }
   ],
   "source": [
    "from sklearn.tree import DecisionTreeRegressor\n",
    "\n",
    "des = DecisionTreeRegressor(random_state=101)\n",
    "\n",
    "des.fit(X_train,y_train)\n",
    "\n",
    "y_pred_4 = des.predict(X_test)\n",
    "\n",
    "r2_score(y_test,pred_4),mean_absolute_error(y_test,pred_4),mean_squared_error(y_test,y_pred_4)\n",
    "\n",
    "# Without TrimLevel (0.8182205478633929, 2.016957364341085, 27.419284198504982)"
   ]
  },
  {
   "cell_type": "code",
   "execution_count": 253,
   "metadata": {},
   "outputs": [
    {
     "data": {
      "text/plain": [
       "(0.8785047568280564, 1.5371360740777535, 16.689961954876278)"
      ]
     },
     "execution_count": 253,
     "metadata": {},
     "output_type": "execute_result"
    }
   ],
   "source": [
    "from lightgbm import LGBMRegressor\n",
    "\n",
    "base_lgbmr = LGBMRegressor()\n",
    "\n",
    "base_lgbmr.fit(X_train, y_train)\n",
    "\n",
    "\n",
    "y_pred_lgb = base_lgbmr.predict(X_test)\n",
    "\n",
    "r2_score(y_test,y_pred_lgb),mean_absolute_error(y_test,y_pred_lgb),mean_squared_error(y_test,y_pred_lgb)"
   ]
  }
 ],
 "metadata": {
  "kernelspec": {
   "display_name": "Python 3",
   "language": "python",
   "name": "python3"
  },
  "language_info": {
   "codemirror_mode": {
    "name": "ipython",
    "version": 3
   },
   "file_extension": ".py",
   "mimetype": "text/x-python",
   "name": "python",
   "nbconvert_exporter": "python",
   "pygments_lexer": "ipython3",
   "version": "3.5.2"
  }
 },
 "nbformat": 4,
 "nbformat_minor": 4
}
