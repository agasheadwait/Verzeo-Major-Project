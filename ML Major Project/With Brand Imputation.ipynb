{
 "cells": [
  {
   "cell_type": "markdown",
   "metadata": {},
   "source": [
    "import numpy as np\n",
    "import pandas as pd\n",
    "import matplotlib.pyplot as plt\n",
    "import seaborn as sns\n",
    "import re\n",
    "\n",
    "from sklearn.model_selection import train_test_split\n",
    "from sklearn.metrics import r2_score , mean_absolute_error,mean_squared_error\n",
    "from sklearn.linear_model import LinearRegression\n",
    "from sklearn.tree import DecisionTreeRegressor\n",
    "from sklearn.ensemble import RandomForestRegressor \n",
    "from sklearn.model_selection import GridSearchCV \n",
    "from sklearn.preprocessing import LabelEncoder, OneHotEncoder\n",
    "import category_encoders as ce\n",
    "\n",
    "%matplotlib inline"
   ]
  },
  {
   "cell_type": "markdown",
   "metadata": {},
   "source": [
    "data = pd.read_excel('Data_Train (1).xlsx')\n",
    "\n",
    "data.head()\n",
    "\n",
    "data.columns\n",
    "\n",
    "data.describe()\n",
    "\n",
    "data.info()\n",
    "\n",
    "data.isnull().sum()\n",
    "\n",
    "# Removing units\n",
    "\n",
    "data['Power'] = data['Power'].str.split(' ').str[0]\n",
    "# including nan rows there is data in this column of 'null' value\n",
    "data.loc[data.Power == 'null','Power'] = np.NaN\n",
    "\n",
    "data['Mileage'] = data['Mileage'].apply(lambda x: re.sub('[$kmpl|km/kg]','',str(x)))\n",
    "data['Engine'] = data['Engine'].apply(lambda x: re.sub('[$CC]','',str(x)))\n",
    "data['Power'] = data['Power'].apply(lambda x: re.sub('[$bhp]','',str(x)))\n",
    "\n",
    "data.head()\n",
    "\n",
    "data['Mileage'] = pd.to_numeric(data['Mileage'],errors='coerce')\n",
    "data['Engine'] = pd.to_numeric(data['Engine'],errors='coerce')\n",
    "data['Power'] = pd.to_numeric(data['Power'],errors='coerce')\n",
    "\n",
    "# Removing Outlayers\n",
    "\n",
    "\n",
    "data.drop(data[data['Kilometers_Driven'] >= 6500000].index, axis=0, inplace=True)"
   ]
  },
  {
   "cell_type": "markdown",
   "metadata": {},
   "source": [
    "sns.heatmap(data.corr(),cmap='coolwarm')\n",
    "plt.show()"
   ]
  },
  {
   "cell_type": "code",
   "execution_count": 33,
   "metadata": {},
   "outputs": [],
   "source": [
    "from itertools import combinations"
   ]
  },
  {
   "cell_type": "code",
   "execution_count": 34,
   "metadata": {},
   "outputs": [
    {
     "data": {
      "text/plain": [
       "Index(['Name', 'Location', 'Fuel_Type', 'Transmission', 'Owner_Type'], dtype='object')"
      ]
     },
     "execution_count": 34,
     "metadata": {},
     "output_type": "execute_result"
    }
   ],
   "source": [
    "object_cols = data.select_dtypes(\"object\").columns\n",
    "object_cols"
   ]
  },
  {
   "cell_type": "code",
   "execution_count": 35,
   "metadata": {},
   "outputs": [],
   "source": [
    "low_cardinality_cols = [col for col in object_cols if data[col].nunique() < 15]\n",
    "low_cardinality_cols.append(\"Brand\")"
   ]
  },
  {
   "cell_type": "code",
   "execution_count": 36,
   "metadata": {},
   "outputs": [],
   "source": [
    "data['Name'] = data['Name'].apply(lambda x: re.sub('Rover','',str(x)))"
   ]
  },
  {
   "cell_type": "code",
   "execution_count": 37,
   "metadata": {},
   "outputs": [],
   "source": [
    "carnames = data.Name.str.split(expand=True)[[0,1,2]]\n",
    "carnames.rename(columns={0:'Brand',1:'Model',2:'Type'}, inplace=True)\n",
    "data = data.join(carnames)\n",
    "data = data.drop(\"Name\", axis=1)\n",
    "data.head()\n",
    "interactions = pd.DataFrame(index=data.index)"
   ]
  },
  {
   "cell_type": "code",
   "execution_count": 38,
   "metadata": {},
   "outputs": [],
   "source": [
    "# Iterate through each pair of features, combine them into interaction features\n",
    "for features in combinations(low_cardinality_cols,2):\n",
    "    \n",
    "    new_interaction = data[features[0]].map(str)+\"_\"+data[features[1]].map(str)\n",
    "    \n",
    "    encoder = LabelEncoder()\n",
    "    interactions[\"_\".join(features)] = encoder.fit_transform(new_interaction)"
   ]
  },
  {
   "cell_type": "code",
   "execution_count": null,
   "metadata": {},
   "outputs": [],
   "source": []
  },
  {
   "cell_type": "code",
   "execution_count": 39,
   "metadata": {},
   "outputs": [
    {
     "data": {
      "text/html": [
       "<div>\n",
       "<style scoped>\n",
       "    .dataframe tbody tr th:only-of-type {\n",
       "        vertical-align: middle;\n",
       "    }\n",
       "\n",
       "    .dataframe tbody tr th {\n",
       "        vertical-align: top;\n",
       "    }\n",
       "\n",
       "    .dataframe thead th {\n",
       "        text-align: right;\n",
       "    }\n",
       "</style>\n",
       "<table border=\"1\" class=\"dataframe\">\n",
       "  <thead>\n",
       "    <tr style=\"text-align: right;\">\n",
       "      <th></th>\n",
       "      <th>Location</th>\n",
       "      <th>Year</th>\n",
       "      <th>Kilometers_Driven</th>\n",
       "      <th>Fuel_Type</th>\n",
       "      <th>Transmission</th>\n",
       "      <th>Owner_Type</th>\n",
       "      <th>Mileage</th>\n",
       "      <th>Engine</th>\n",
       "      <th>Power</th>\n",
       "      <th>Seats</th>\n",
       "      <th>...</th>\n",
       "      <th>Location_Fuel_Type</th>\n",
       "      <th>Location_Transmission</th>\n",
       "      <th>Location_Owner_Type</th>\n",
       "      <th>Location_Brand</th>\n",
       "      <th>Fuel_Type_Transmission</th>\n",
       "      <th>Fuel_Type_Owner_Type</th>\n",
       "      <th>Fuel_Type_Brand</th>\n",
       "      <th>Transmission_Owner_Type</th>\n",
       "      <th>Transmission_Brand</th>\n",
       "      <th>Owner_Type_Brand</th>\n",
       "    </tr>\n",
       "  </thead>\n",
       "  <tbody>\n",
       "    <tr>\n",
       "      <th>0</th>\n",
       "      <td>Mumbai</td>\n",
       "      <td>2010</td>\n",
       "      <td>72000</td>\n",
       "      <td>CNG</td>\n",
       "      <td>Manual</td>\n",
       "      <td>First</td>\n",
       "      <td>26.60</td>\n",
       "      <td>998.0</td>\n",
       "      <td>58.16</td>\n",
       "      <td>5.0</td>\n",
       "      <td>...</td>\n",
       "      <td>26</td>\n",
       "      <td>19</td>\n",
       "      <td>28</td>\n",
       "      <td>217</td>\n",
       "      <td>0</td>\n",
       "      <td>0</td>\n",
       "      <td>1</td>\n",
       "      <td>4</td>\n",
       "      <td>38</td>\n",
       "      <td>16</td>\n",
       "    </tr>\n",
       "    <tr>\n",
       "      <th>1</th>\n",
       "      <td>Pune</td>\n",
       "      <td>2015</td>\n",
       "      <td>41000</td>\n",
       "      <td>Diesel</td>\n",
       "      <td>Manual</td>\n",
       "      <td>First</td>\n",
       "      <td>19.67</td>\n",
       "      <td>1582.0</td>\n",
       "      <td>126.20</td>\n",
       "      <td>5.0</td>\n",
       "      <td>...</td>\n",
       "      <td>32</td>\n",
       "      <td>21</td>\n",
       "      <td>32</td>\n",
       "      <td>236</td>\n",
       "      <td>2</td>\n",
       "      <td>3</td>\n",
       "      <td>12</td>\n",
       "      <td>4</td>\n",
       "      <td>33</td>\n",
       "      <td>9</td>\n",
       "    </tr>\n",
       "    <tr>\n",
       "      <th>2</th>\n",
       "      <td>Chennai</td>\n",
       "      <td>2011</td>\n",
       "      <td>46000</td>\n",
       "      <td>Petrol</td>\n",
       "      <td>Manual</td>\n",
       "      <td>First</td>\n",
       "      <td>18.20</td>\n",
       "      <td>1199.0</td>\n",
       "      <td>88.70</td>\n",
       "      <td>5.0</td>\n",
       "      <td>...</td>\n",
       "      <td>8</td>\n",
       "      <td>5</td>\n",
       "      <td>6</td>\n",
       "      <td>48</td>\n",
       "      <td>6</td>\n",
       "      <td>10</td>\n",
       "      <td>43</td>\n",
       "      <td>4</td>\n",
       "      <td>32</td>\n",
       "      <td>8</td>\n",
       "    </tr>\n",
       "    <tr>\n",
       "      <th>3</th>\n",
       "      <td>Chennai</td>\n",
       "      <td>2012</td>\n",
       "      <td>87000</td>\n",
       "      <td>Diesel</td>\n",
       "      <td>Manual</td>\n",
       "      <td>First</td>\n",
       "      <td>20.77</td>\n",
       "      <td>1248.0</td>\n",
       "      <td>88.76</td>\n",
       "      <td>7.0</td>\n",
       "      <td>...</td>\n",
       "      <td>6</td>\n",
       "      <td>5</td>\n",
       "      <td>6</td>\n",
       "      <td>53</td>\n",
       "      <td>2</td>\n",
       "      <td>3</td>\n",
       "      <td>19</td>\n",
       "      <td>4</td>\n",
       "      <td>38</td>\n",
       "      <td>16</td>\n",
       "    </tr>\n",
       "    <tr>\n",
       "      <th>4</th>\n",
       "      <td>Coimbatore</td>\n",
       "      <td>2013</td>\n",
       "      <td>40670</td>\n",
       "      <td>Diesel</td>\n",
       "      <td>Automatic</td>\n",
       "      <td>Second</td>\n",
       "      <td>15.20</td>\n",
       "      <td>1968.0</td>\n",
       "      <td>140.80</td>\n",
       "      <td>5.0</td>\n",
       "      <td>...</td>\n",
       "      <td>9</td>\n",
       "      <td>6</td>\n",
       "      <td>12</td>\n",
       "      <td>64</td>\n",
       "      <td>1</td>\n",
       "      <td>5</td>\n",
       "      <td>5</td>\n",
       "      <td>2</td>\n",
       "      <td>0</td>\n",
       "      <td>32</td>\n",
       "    </tr>\n",
       "  </tbody>\n",
       "</table>\n",
       "<p>5 rows × 24 columns</p>\n",
       "</div>"
      ],
      "text/plain": [
       "     Location  Year  Kilometers_Driven Fuel_Type Transmission Owner_Type  \\\n",
       "0      Mumbai  2010              72000       CNG       Manual      First   \n",
       "1        Pune  2015              41000    Diesel       Manual      First   \n",
       "2     Chennai  2011              46000    Petrol       Manual      First   \n",
       "3     Chennai  2012              87000    Diesel       Manual      First   \n",
       "4  Coimbatore  2013              40670    Diesel    Automatic     Second   \n",
       "\n",
       "   Mileage  Engine   Power  Seats  ...  Location_Fuel_Type  \\\n",
       "0    26.60   998.0   58.16    5.0  ...                  26   \n",
       "1    19.67  1582.0  126.20    5.0  ...                  32   \n",
       "2    18.20  1199.0   88.70    5.0  ...                   8   \n",
       "3    20.77  1248.0   88.76    7.0  ...                   6   \n",
       "4    15.20  1968.0  140.80    5.0  ...                   9   \n",
       "\n",
       "  Location_Transmission Location_Owner_Type Location_Brand  \\\n",
       "0                    19                  28            217   \n",
       "1                    21                  32            236   \n",
       "2                     5                   6             48   \n",
       "3                     5                   6             53   \n",
       "4                     6                  12             64   \n",
       "\n",
       "   Fuel_Type_Transmission  Fuel_Type_Owner_Type  Fuel_Type_Brand  \\\n",
       "0                       0                     0                1   \n",
       "1                       2                     3               12   \n",
       "2                       6                    10               43   \n",
       "3                       2                     3               19   \n",
       "4                       1                     5                5   \n",
       "\n",
       "   Transmission_Owner_Type  Transmission_Brand  Owner_Type_Brand  \n",
       "0                        4                  38                16  \n",
       "1                        4                  33                 9  \n",
       "2                        4                  32                 8  \n",
       "3                        4                  38                16  \n",
       "4                        2                   0                32  \n",
       "\n",
       "[5 rows x 24 columns]"
      ]
     },
     "execution_count": 39,
     "metadata": {},
     "output_type": "execute_result"
    }
   ],
   "source": [
    "data = data.join(interactions) #append to the dataset\n",
    "data.head(5)"
   ]
  },
  {
   "cell_type": "code",
   "execution_count": 40,
   "metadata": {},
   "outputs": [],
   "source": [
    "features = data.drop([\"Price\"], axis=1)\n",
    "target = data[\"Price\"]\n",
    "X_train, X_test, y_train, y_test = train_test_split(features, target, test_size=0.25, random_state=0)"
   ]
  },
  {
   "cell_type": "code",
   "execution_count": 41,
   "metadata": {},
   "outputs": [
    {
     "data": {
      "text/plain": [
       "Location                     0\n",
       "Year                         0\n",
       "Kilometers_Driven            0\n",
       "Fuel_Type                    0\n",
       "Transmission                 0\n",
       "Owner_Type                   0\n",
       "Mileage                      1\n",
       "Engine                      22\n",
       "Power                      106\n",
       "Seats                       28\n",
       "Brand                        0\n",
       "Model                        0\n",
       "Type                         0\n",
       "Location_Fuel_Type           0\n",
       "Location_Transmission        0\n",
       "Location_Owner_Type          0\n",
       "Location_Brand               0\n",
       "Fuel_Type_Transmission       0\n",
       "Fuel_Type_Owner_Type         0\n",
       "Fuel_Type_Brand              0\n",
       "Transmission_Owner_Type      0\n",
       "Transmission_Brand           0\n",
       "Owner_Type_Brand             0\n",
       "dtype: int64"
      ]
     },
     "execution_count": 41,
     "metadata": {},
     "output_type": "execute_result"
    }
   ],
   "source": [
    "X_train.isnull().sum()"
   ]
  },
  {
   "cell_type": "code",
   "execution_count": 42,
   "metadata": {},
   "outputs": [
    {
     "name": "stderr",
     "output_type": "stream",
     "text": [
      "/home/percy/anaconda3/lib/python3.7/site-packages/pandas/core/indexing.py:965: SettingWithCopyWarning: \n",
      "A value is trying to be set on a copy of a slice from a DataFrame.\n",
      "Try using .loc[row_indexer,col_indexer] = value instead\n",
      "\n",
      "See the caveats in the documentation: https://pandas.pydata.org/pandas-docs/stable/user_guide/indexing.html#returning-a-view-versus-a-copy\n",
      "  self.obj[item] = s\n"
     ]
    }
   ],
   "source": [
    "num_cols = X_train.select_dtypes(\"number\")\n",
    "null_num_cols = num_cols.columns[num_cols.isnull().any()]\n",
    "\n",
    "for cols in null_num_cols:\n",
    "    X_train.loc[:,cols] = X_train.loc[:,cols].fillna(X_train.groupby('Brand')[cols].transform('median'))\n",
    "    X_train.loc[:,cols] = X_train.loc[:,cols].fillna(X_train[cols].mean())\n",
    "\n",
    "    X_test.loc[:,cols] = X_test.loc[:,cols].fillna(X_test.groupby('Brand')[cols].transform('median'))\n",
    "    X_test.loc[:,cols] = X_test.loc[:,cols].fillna(X_test[cols].mean())"
   ]
  },
  {
   "cell_type": "code",
   "execution_count": 43,
   "metadata": {},
   "outputs": [
    {
     "data": {
      "text/plain": [
       "Location         11\n",
       "Fuel_Type         5\n",
       "Transmission      2\n",
       "Owner_Type        4\n",
       "Brand            31\n",
       "Model           214\n",
       "Type            344\n",
       "dtype: int64"
      ]
     },
     "execution_count": 43,
     "metadata": {},
     "output_type": "execute_result"
    }
   ],
   "source": [
    "data.select_dtypes(\"object\").nunique()"
   ]
  },
  {
   "cell_type": "code",
   "execution_count": 44,
   "metadata": {},
   "outputs": [],
   "source": [
    "OHE_cat_features = [\"Fuel_Type\",\"Transmission\", \"Location\", \"Owner_Type\", \"Brand\"]\n",
    "OH_encoder = OneHotEncoder(sparse=False,handle_unknown='ignore')\n",
    "\n",
    "OH_cols_train = pd.DataFrame(OH_encoder.fit_transform(X_train[OHE_cat_features]))\n",
    "OH_cols_test = pd.DataFrame(OH_encoder.transform(X_test[OHE_cat_features]))\n",
    "\n",
    "OH_cols_train.index = X_train.index\n",
    "OH_cols_test.index = X_test.index\n",
    "\n",
    "OH_cols_train.columns = OH_encoder.get_feature_names(OHE_cat_features)\n",
    "OH_cols_test.columns = OH_encoder.get_feature_names(OHE_cat_features)\n",
    "\n",
    "X_train_enc = X_train.join(OH_cols_train)\n",
    "X_test_enc = X_test.join(OH_cols_test)"
   ]
  },
  {
   "cell_type": "code",
   "execution_count": 45,
   "metadata": {},
   "outputs": [],
   "source": [
    "X_train_enc.drop(OHE_cat_features, axis=1, inplace = True)\n",
    "X_test_enc.drop(OHE_cat_features, axis=1, inplace = True)"
   ]
  },
  {
   "cell_type": "code",
   "execution_count": 46,
   "metadata": {},
   "outputs": [
    {
     "data": {
      "text/html": [
       "<div>\n",
       "<style scoped>\n",
       "    .dataframe tbody tr th:only-of-type {\n",
       "        vertical-align: middle;\n",
       "    }\n",
       "\n",
       "    .dataframe tbody tr th {\n",
       "        vertical-align: top;\n",
       "    }\n",
       "\n",
       "    .dataframe thead th {\n",
       "        text-align: right;\n",
       "    }\n",
       "</style>\n",
       "<table border=\"1\" class=\"dataframe\">\n",
       "  <thead>\n",
       "    <tr style=\"text-align: right;\">\n",
       "      <th></th>\n",
       "      <th>Year</th>\n",
       "      <th>Kilometers_Driven</th>\n",
       "      <th>Mileage</th>\n",
       "      <th>Engine</th>\n",
       "      <th>Power</th>\n",
       "      <th>Seats</th>\n",
       "      <th>Model</th>\n",
       "      <th>Type</th>\n",
       "      <th>Location_Fuel_Type</th>\n",
       "      <th>Location_Transmission</th>\n",
       "      <th>...</th>\n",
       "      <th>Brand_Mitsubishi</th>\n",
       "      <th>Brand_Nissan</th>\n",
       "      <th>Brand_Porsche</th>\n",
       "      <th>Brand_Renault</th>\n",
       "      <th>Brand_Skoda</th>\n",
       "      <th>Brand_Smart</th>\n",
       "      <th>Brand_Tata</th>\n",
       "      <th>Brand_Toyota</th>\n",
       "      <th>Brand_Volkswagen</th>\n",
       "      <th>Brand_Volvo</th>\n",
       "    </tr>\n",
       "  </thead>\n",
       "  <tbody>\n",
       "    <tr>\n",
       "      <th>245</th>\n",
       "      <td>2007</td>\n",
       "      <td>72000</td>\n",
       "      <td>17.00</td>\n",
       "      <td>1086.0</td>\n",
       "      <td>82.0</td>\n",
       "      <td>5.0</td>\n",
       "      <td>Santro</td>\n",
       "      <td>Xing</td>\n",
       "      <td>30</td>\n",
       "      <td>19</td>\n",
       "      <td>...</td>\n",
       "      <td>0.0</td>\n",
       "      <td>0.0</td>\n",
       "      <td>0.0</td>\n",
       "      <td>0.0</td>\n",
       "      <td>0.0</td>\n",
       "      <td>0.0</td>\n",
       "      <td>0.0</td>\n",
       "      <td>0.0</td>\n",
       "      <td>0.0</td>\n",
       "      <td>0.0</td>\n",
       "    </tr>\n",
       "    <tr>\n",
       "      <th>2175</th>\n",
       "      <td>2013</td>\n",
       "      <td>70961</td>\n",
       "      <td>25.80</td>\n",
       "      <td>1498.0</td>\n",
       "      <td>98.6</td>\n",
       "      <td>5.0</td>\n",
       "      <td>Amaze</td>\n",
       "      <td>EX</td>\n",
       "      <td>18</td>\n",
       "      <td>13</td>\n",
       "      <td>...</td>\n",
       "      <td>0.0</td>\n",
       "      <td>0.0</td>\n",
       "      <td>0.0</td>\n",
       "      <td>0.0</td>\n",
       "      <td>0.0</td>\n",
       "      <td>0.0</td>\n",
       "      <td>0.0</td>\n",
       "      <td>0.0</td>\n",
       "      <td>0.0</td>\n",
       "      <td>0.0</td>\n",
       "    </tr>\n",
       "    <tr>\n",
       "      <th>4134</th>\n",
       "      <td>2016</td>\n",
       "      <td>34004</td>\n",
       "      <td>15.40</td>\n",
       "      <td>1497.0</td>\n",
       "      <td>117.3</td>\n",
       "      <td>7.0</td>\n",
       "      <td>BR-V</td>\n",
       "      <td>i-VTEC</td>\n",
       "      <td>4</td>\n",
       "      <td>3</td>\n",
       "      <td>...</td>\n",
       "      <td>0.0</td>\n",
       "      <td>0.0</td>\n",
       "      <td>0.0</td>\n",
       "      <td>0.0</td>\n",
       "      <td>0.0</td>\n",
       "      <td>0.0</td>\n",
       "      <td>0.0</td>\n",
       "      <td>0.0</td>\n",
       "      <td>0.0</td>\n",
       "      <td>0.0</td>\n",
       "    </tr>\n",
       "    <tr>\n",
       "      <th>4975</th>\n",
       "      <td>2016</td>\n",
       "      <td>41810</td>\n",
       "      <td>20.73</td>\n",
       "      <td>1373.0</td>\n",
       "      <td>91.1</td>\n",
       "      <td>5.0</td>\n",
       "      <td>Ciaz</td>\n",
       "      <td>ZXi</td>\n",
       "      <td>10</td>\n",
       "      <td>7</td>\n",
       "      <td>...</td>\n",
       "      <td>0.0</td>\n",
       "      <td>0.0</td>\n",
       "      <td>0.0</td>\n",
       "      <td>0.0</td>\n",
       "      <td>0.0</td>\n",
       "      <td>0.0</td>\n",
       "      <td>0.0</td>\n",
       "      <td>0.0</td>\n",
       "      <td>0.0</td>\n",
       "      <td>0.0</td>\n",
       "    </tr>\n",
       "    <tr>\n",
       "      <th>2473</th>\n",
       "      <td>2018</td>\n",
       "      <td>68737</td>\n",
       "      <td>26.21</td>\n",
       "      <td>1248.0</td>\n",
       "      <td>88.5</td>\n",
       "      <td>5.0</td>\n",
       "      <td>Ciaz</td>\n",
       "      <td>ZDi</td>\n",
       "      <td>9</td>\n",
       "      <td>7</td>\n",
       "      <td>...</td>\n",
       "      <td>0.0</td>\n",
       "      <td>0.0</td>\n",
       "      <td>0.0</td>\n",
       "      <td>0.0</td>\n",
       "      <td>0.0</td>\n",
       "      <td>0.0</td>\n",
       "      <td>0.0</td>\n",
       "      <td>0.0</td>\n",
       "      <td>0.0</td>\n",
       "      <td>0.0</td>\n",
       "    </tr>\n",
       "  </tbody>\n",
       "</table>\n",
       "<p>5 rows × 71 columns</p>\n",
       "</div>"
      ],
      "text/plain": [
       "      Year  Kilometers_Driven  Mileage  Engine  Power  Seats   Model    Type  \\\n",
       "245   2007              72000    17.00  1086.0   82.0    5.0  Santro    Xing   \n",
       "2175  2013              70961    25.80  1498.0   98.6    5.0   Amaze      EX   \n",
       "4134  2016              34004    15.40  1497.0  117.3    7.0    BR-V  i-VTEC   \n",
       "4975  2016              41810    20.73  1373.0   91.1    5.0    Ciaz     ZXi   \n",
       "2473  2018              68737    26.21  1248.0   88.5    5.0    Ciaz     ZDi   \n",
       "\n",
       "      Location_Fuel_Type  Location_Transmission  ...  Brand_Mitsubishi  \\\n",
       "245                   30                     19  ...               0.0   \n",
       "2175                  18                     13  ...               0.0   \n",
       "4134                   4                      3  ...               0.0   \n",
       "4975                  10                      7  ...               0.0   \n",
       "2473                   9                      7  ...               0.0   \n",
       "\n",
       "      Brand_Nissan  Brand_Porsche  Brand_Renault  Brand_Skoda  Brand_Smart  \\\n",
       "245            0.0            0.0            0.0          0.0          0.0   \n",
       "2175           0.0            0.0            0.0          0.0          0.0   \n",
       "4134           0.0            0.0            0.0          0.0          0.0   \n",
       "4975           0.0            0.0            0.0          0.0          0.0   \n",
       "2473           0.0            0.0            0.0          0.0          0.0   \n",
       "\n",
       "      Brand_Tata  Brand_Toyota  Brand_Volkswagen  Brand_Volvo  \n",
       "245          0.0           0.0               0.0          0.0  \n",
       "2175         0.0           0.0               0.0          0.0  \n",
       "4134         0.0           0.0               0.0          0.0  \n",
       "4975         0.0           0.0               0.0          0.0  \n",
       "2473         0.0           0.0               0.0          0.0  \n",
       "\n",
       "[5 rows x 71 columns]"
      ]
     },
     "execution_count": 46,
     "metadata": {},
     "output_type": "execute_result"
    }
   ],
   "source": [
    "X_train_enc.head()"
   ]
  },
  {
   "cell_type": "code",
   "execution_count": 47,
   "metadata": {},
   "outputs": [
    {
     "data": {
      "text/html": [
       "<div>\n",
       "<style scoped>\n",
       "    .dataframe tbody tr th:only-of-type {\n",
       "        vertical-align: middle;\n",
       "    }\n",
       "\n",
       "    .dataframe tbody tr th {\n",
       "        vertical-align: top;\n",
       "    }\n",
       "\n",
       "    .dataframe thead th {\n",
       "        text-align: right;\n",
       "    }\n",
       "</style>\n",
       "<table border=\"1\" class=\"dataframe\">\n",
       "  <thead>\n",
       "    <tr style=\"text-align: right;\">\n",
       "      <th></th>\n",
       "      <th>Year</th>\n",
       "      <th>Kilometers_Driven</th>\n",
       "      <th>Mileage</th>\n",
       "      <th>Engine</th>\n",
       "      <th>Power</th>\n",
       "      <th>Seats</th>\n",
       "      <th>Model</th>\n",
       "      <th>Type</th>\n",
       "      <th>Location_Fuel_Type</th>\n",
       "      <th>Location_Transmission</th>\n",
       "      <th>...</th>\n",
       "      <th>Brand_Porsche</th>\n",
       "      <th>Brand_Renault</th>\n",
       "      <th>Brand_Skoda</th>\n",
       "      <th>Brand_Smart</th>\n",
       "      <th>Brand_Tata</th>\n",
       "      <th>Brand_Toyota</th>\n",
       "      <th>Brand_Volkswagen</th>\n",
       "      <th>Brand_Volvo</th>\n",
       "      <th>Model_enc</th>\n",
       "      <th>Type_enc</th>\n",
       "    </tr>\n",
       "  </thead>\n",
       "  <tbody>\n",
       "    <tr>\n",
       "      <th>245</th>\n",
       "      <td>2007</td>\n",
       "      <td>72000</td>\n",
       "      <td>17.00</td>\n",
       "      <td>1086.0</td>\n",
       "      <td>82.0</td>\n",
       "      <td>5.0</td>\n",
       "      <td>Santro</td>\n",
       "      <td>Xing</td>\n",
       "      <td>30</td>\n",
       "      <td>19</td>\n",
       "      <td>...</td>\n",
       "      <td>0.0</td>\n",
       "      <td>0.0</td>\n",
       "      <td>0.0</td>\n",
       "      <td>0.0</td>\n",
       "      <td>0.0</td>\n",
       "      <td>0.0</td>\n",
       "      <td>0.0</td>\n",
       "      <td>0.0</td>\n",
       "      <td>1.791967</td>\n",
       "      <td>1.738571</td>\n",
       "    </tr>\n",
       "    <tr>\n",
       "      <th>2175</th>\n",
       "      <td>2013</td>\n",
       "      <td>70961</td>\n",
       "      <td>25.80</td>\n",
       "      <td>1498.0</td>\n",
       "      <td>98.6</td>\n",
       "      <td>5.0</td>\n",
       "      <td>Amaze</td>\n",
       "      <td>EX</td>\n",
       "      <td>18</td>\n",
       "      <td>13</td>\n",
       "      <td>...</td>\n",
       "      <td>0.0</td>\n",
       "      <td>0.0</td>\n",
       "      <td>0.0</td>\n",
       "      <td>0.0</td>\n",
       "      <td>0.0</td>\n",
       "      <td>0.0</td>\n",
       "      <td>0.0</td>\n",
       "      <td>0.0</td>\n",
       "      <td>4.766282</td>\n",
       "      <td>3.978158</td>\n",
       "    </tr>\n",
       "    <tr>\n",
       "      <th>4134</th>\n",
       "      <td>2016</td>\n",
       "      <td>34004</td>\n",
       "      <td>15.40</td>\n",
       "      <td>1497.0</td>\n",
       "      <td>117.3</td>\n",
       "      <td>7.0</td>\n",
       "      <td>BR-V</td>\n",
       "      <td>i-VTEC</td>\n",
       "      <td>4</td>\n",
       "      <td>3</td>\n",
       "      <td>...</td>\n",
       "      <td>0.0</td>\n",
       "      <td>0.0</td>\n",
       "      <td>0.0</td>\n",
       "      <td>0.0</td>\n",
       "      <td>0.0</td>\n",
       "      <td>0.0</td>\n",
       "      <td>0.0</td>\n",
       "      <td>0.0</td>\n",
       "      <td>8.579124</td>\n",
       "      <td>9.060769</td>\n",
       "    </tr>\n",
       "    <tr>\n",
       "      <th>4975</th>\n",
       "      <td>2016</td>\n",
       "      <td>41810</td>\n",
       "      <td>20.73</td>\n",
       "      <td>1373.0</td>\n",
       "      <td>91.1</td>\n",
       "      <td>5.0</td>\n",
       "      <td>Ciaz</td>\n",
       "      <td>ZXi</td>\n",
       "      <td>10</td>\n",
       "      <td>7</td>\n",
       "      <td>...</td>\n",
       "      <td>0.0</td>\n",
       "      <td>0.0</td>\n",
       "      <td>0.0</td>\n",
       "      <td>0.0</td>\n",
       "      <td>0.0</td>\n",
       "      <td>0.0</td>\n",
       "      <td>0.0</td>\n",
       "      <td>0.0</td>\n",
       "      <td>7.626034</td>\n",
       "      <td>6.809325</td>\n",
       "    </tr>\n",
       "    <tr>\n",
       "      <th>2473</th>\n",
       "      <td>2018</td>\n",
       "      <td>68737</td>\n",
       "      <td>26.21</td>\n",
       "      <td>1248.0</td>\n",
       "      <td>88.5</td>\n",
       "      <td>5.0</td>\n",
       "      <td>Ciaz</td>\n",
       "      <td>ZDi</td>\n",
       "      <td>9</td>\n",
       "      <td>7</td>\n",
       "      <td>...</td>\n",
       "      <td>0.0</td>\n",
       "      <td>0.0</td>\n",
       "      <td>0.0</td>\n",
       "      <td>0.0</td>\n",
       "      <td>0.0</td>\n",
       "      <td>0.0</td>\n",
       "      <td>0.0</td>\n",
       "      <td>0.0</td>\n",
       "      <td>7.626034</td>\n",
       "      <td>6.349655</td>\n",
       "    </tr>\n",
       "  </tbody>\n",
       "</table>\n",
       "<p>5 rows × 73 columns</p>\n",
       "</div>"
      ],
      "text/plain": [
       "      Year  Kilometers_Driven  Mileage  Engine  Power  Seats   Model    Type  \\\n",
       "245   2007              72000    17.00  1086.0   82.0    5.0  Santro    Xing   \n",
       "2175  2013              70961    25.80  1498.0   98.6    5.0   Amaze      EX   \n",
       "4134  2016              34004    15.40  1497.0  117.3    7.0    BR-V  i-VTEC   \n",
       "4975  2016              41810    20.73  1373.0   91.1    5.0    Ciaz     ZXi   \n",
       "2473  2018              68737    26.21  1248.0   88.5    5.0    Ciaz     ZDi   \n",
       "\n",
       "      Location_Fuel_Type  Location_Transmission  ...  Brand_Porsche  \\\n",
       "245                   30                     19  ...            0.0   \n",
       "2175                  18                     13  ...            0.0   \n",
       "4134                   4                      3  ...            0.0   \n",
       "4975                  10                      7  ...            0.0   \n",
       "2473                   9                      7  ...            0.0   \n",
       "\n",
       "      Brand_Renault  Brand_Skoda  Brand_Smart  Brand_Tata  Brand_Toyota  \\\n",
       "245             0.0          0.0          0.0         0.0           0.0   \n",
       "2175            0.0          0.0          0.0         0.0           0.0   \n",
       "4134            0.0          0.0          0.0         0.0           0.0   \n",
       "4975            0.0          0.0          0.0         0.0           0.0   \n",
       "2473            0.0          0.0          0.0         0.0           0.0   \n",
       "\n",
       "      Brand_Volkswagen  Brand_Volvo  Model_enc  Type_enc  \n",
       "245                0.0          0.0   1.791967  1.738571  \n",
       "2175               0.0          0.0   4.766282  3.978158  \n",
       "4134               0.0          0.0   8.579124  9.060769  \n",
       "4975               0.0          0.0   7.626034  6.809325  \n",
       "2473               0.0          0.0   7.626034  6.349655  \n",
       "\n",
       "[5 rows x 73 columns]"
      ]
     },
     "execution_count": 47,
     "metadata": {},
     "output_type": "execute_result"
    }
   ],
   "source": [
    "target_cat_features = X_train_enc.select_dtypes('object').columns\n",
    "target_enc = ce.TargetEncoder(cols=target_cat_features)\n",
    "target_enc.fit(X_train[target_cat_features], y_train)\n",
    "X_train_enc = X_train_enc.join(target_enc.transform(X_train[target_cat_features]).add_suffix('_enc'))\n",
    "X_test_enc = X_test_enc.join(target_enc.transform(X_test[target_cat_features]).add_suffix('_enc'))\n",
    "X_train_enc.head()"
   ]
  },
  {
   "cell_type": "code",
   "execution_count": 48,
   "metadata": {},
   "outputs": [],
   "source": [
    "object_cols = X_train_enc.select_dtypes('object')\n",
    "X_train_enc.drop(object_cols, axis=1, inplace = True)\n",
    "X_test_enc.drop(object_cols, axis=1, inplace = True)"
   ]
  },
  {
   "cell_type": "code",
   "execution_count": 49,
   "metadata": {},
   "outputs": [
    {
     "data": {
      "text/html": [
       "<div>\n",
       "<style scoped>\n",
       "    .dataframe tbody tr th:only-of-type {\n",
       "        vertical-align: middle;\n",
       "    }\n",
       "\n",
       "    .dataframe tbody tr th {\n",
       "        vertical-align: top;\n",
       "    }\n",
       "\n",
       "    .dataframe thead th {\n",
       "        text-align: right;\n",
       "    }\n",
       "</style>\n",
       "<table border=\"1\" class=\"dataframe\">\n",
       "  <thead>\n",
       "    <tr style=\"text-align: right;\">\n",
       "      <th></th>\n",
       "      <th>Year</th>\n",
       "      <th>Kilometers_Driven</th>\n",
       "      <th>Mileage</th>\n",
       "      <th>Engine</th>\n",
       "      <th>Power</th>\n",
       "      <th>Seats</th>\n",
       "      <th>Location_Fuel_Type</th>\n",
       "      <th>Location_Transmission</th>\n",
       "      <th>Location_Owner_Type</th>\n",
       "      <th>Location_Brand</th>\n",
       "      <th>...</th>\n",
       "      <th>Brand_Porsche</th>\n",
       "      <th>Brand_Renault</th>\n",
       "      <th>Brand_Skoda</th>\n",
       "      <th>Brand_Smart</th>\n",
       "      <th>Brand_Tata</th>\n",
       "      <th>Brand_Toyota</th>\n",
       "      <th>Brand_Volkswagen</th>\n",
       "      <th>Brand_Volvo</th>\n",
       "      <th>Model_enc</th>\n",
       "      <th>Type_enc</th>\n",
       "    </tr>\n",
       "  </thead>\n",
       "  <tbody>\n",
       "    <tr>\n",
       "      <th>245</th>\n",
       "      <td>2007</td>\n",
       "      <td>72000</td>\n",
       "      <td>17.00</td>\n",
       "      <td>1086.0</td>\n",
       "      <td>82.0</td>\n",
       "      <td>5.0</td>\n",
       "      <td>30</td>\n",
       "      <td>19</td>\n",
       "      <td>31</td>\n",
       "      <td>212</td>\n",
       "      <td>...</td>\n",
       "      <td>0.0</td>\n",
       "      <td>0.0</td>\n",
       "      <td>0.0</td>\n",
       "      <td>0.0</td>\n",
       "      <td>0.0</td>\n",
       "      <td>0.0</td>\n",
       "      <td>0.0</td>\n",
       "      <td>0.0</td>\n",
       "      <td>1.791967</td>\n",
       "      <td>1.738571</td>\n",
       "    </tr>\n",
       "    <tr>\n",
       "      <th>2175</th>\n",
       "      <td>2013</td>\n",
       "      <td>70961</td>\n",
       "      <td>25.80</td>\n",
       "      <td>1498.0</td>\n",
       "      <td>98.6</td>\n",
       "      <td>5.0</td>\n",
       "      <td>18</td>\n",
       "      <td>13</td>\n",
       "      <td>19</td>\n",
       "      <td>142</td>\n",
       "      <td>...</td>\n",
       "      <td>0.0</td>\n",
       "      <td>0.0</td>\n",
       "      <td>0.0</td>\n",
       "      <td>0.0</td>\n",
       "      <td>0.0</td>\n",
       "      <td>0.0</td>\n",
       "      <td>0.0</td>\n",
       "      <td>0.0</td>\n",
       "      <td>4.766282</td>\n",
       "      <td>3.978158</td>\n",
       "    </tr>\n",
       "    <tr>\n",
       "      <th>4134</th>\n",
       "      <td>2016</td>\n",
       "      <td>34004</td>\n",
       "      <td>15.40</td>\n",
       "      <td>1497.0</td>\n",
       "      <td>117.3</td>\n",
       "      <td>7.0</td>\n",
       "      <td>4</td>\n",
       "      <td>3</td>\n",
       "      <td>2</td>\n",
       "      <td>23</td>\n",
       "      <td>...</td>\n",
       "      <td>0.0</td>\n",
       "      <td>0.0</td>\n",
       "      <td>0.0</td>\n",
       "      <td>0.0</td>\n",
       "      <td>0.0</td>\n",
       "      <td>0.0</td>\n",
       "      <td>0.0</td>\n",
       "      <td>0.0</td>\n",
       "      <td>8.579124</td>\n",
       "      <td>9.060769</td>\n",
       "    </tr>\n",
       "    <tr>\n",
       "      <th>4975</th>\n",
       "      <td>2016</td>\n",
       "      <td>41810</td>\n",
       "      <td>20.73</td>\n",
       "      <td>1373.0</td>\n",
       "      <td>91.1</td>\n",
       "      <td>5.0</td>\n",
       "      <td>10</td>\n",
       "      <td>7</td>\n",
       "      <td>10</td>\n",
       "      <td>77</td>\n",
       "      <td>...</td>\n",
       "      <td>0.0</td>\n",
       "      <td>0.0</td>\n",
       "      <td>0.0</td>\n",
       "      <td>0.0</td>\n",
       "      <td>0.0</td>\n",
       "      <td>0.0</td>\n",
       "      <td>0.0</td>\n",
       "      <td>0.0</td>\n",
       "      <td>7.626034</td>\n",
       "      <td>6.809325</td>\n",
       "    </tr>\n",
       "    <tr>\n",
       "      <th>2473</th>\n",
       "      <td>2018</td>\n",
       "      <td>68737</td>\n",
       "      <td>26.21</td>\n",
       "      <td>1248.0</td>\n",
       "      <td>88.5</td>\n",
       "      <td>5.0</td>\n",
       "      <td>9</td>\n",
       "      <td>7</td>\n",
       "      <td>10</td>\n",
       "      <td>77</td>\n",
       "      <td>...</td>\n",
       "      <td>0.0</td>\n",
       "      <td>0.0</td>\n",
       "      <td>0.0</td>\n",
       "      <td>0.0</td>\n",
       "      <td>0.0</td>\n",
       "      <td>0.0</td>\n",
       "      <td>0.0</td>\n",
       "      <td>0.0</td>\n",
       "      <td>7.626034</td>\n",
       "      <td>6.349655</td>\n",
       "    </tr>\n",
       "  </tbody>\n",
       "</table>\n",
       "<p>5 rows × 71 columns</p>\n",
       "</div>"
      ],
      "text/plain": [
       "      Year  Kilometers_Driven  Mileage  Engine  Power  Seats  \\\n",
       "245   2007              72000    17.00  1086.0   82.0    5.0   \n",
       "2175  2013              70961    25.80  1498.0   98.6    5.0   \n",
       "4134  2016              34004    15.40  1497.0  117.3    7.0   \n",
       "4975  2016              41810    20.73  1373.0   91.1    5.0   \n",
       "2473  2018              68737    26.21  1248.0   88.5    5.0   \n",
       "\n",
       "      Location_Fuel_Type  Location_Transmission  Location_Owner_Type  \\\n",
       "245                   30                     19                   31   \n",
       "2175                  18                     13                   19   \n",
       "4134                   4                      3                    2   \n",
       "4975                  10                      7                   10   \n",
       "2473                   9                      7                   10   \n",
       "\n",
       "      Location_Brand  ...  Brand_Porsche  Brand_Renault  Brand_Skoda  \\\n",
       "245              212  ...            0.0            0.0          0.0   \n",
       "2175             142  ...            0.0            0.0          0.0   \n",
       "4134              23  ...            0.0            0.0          0.0   \n",
       "4975              77  ...            0.0            0.0          0.0   \n",
       "2473              77  ...            0.0            0.0          0.0   \n",
       "\n",
       "      Brand_Smart  Brand_Tata  Brand_Toyota  Brand_Volkswagen  Brand_Volvo  \\\n",
       "245           0.0         0.0           0.0               0.0          0.0   \n",
       "2175          0.0         0.0           0.0               0.0          0.0   \n",
       "4134          0.0         0.0           0.0               0.0          0.0   \n",
       "4975          0.0         0.0           0.0               0.0          0.0   \n",
       "2473          0.0         0.0           0.0               0.0          0.0   \n",
       "\n",
       "      Model_enc  Type_enc  \n",
       "245    1.791967  1.738571  \n",
       "2175   4.766282  3.978158  \n",
       "4134   8.579124  9.060769  \n",
       "4975   7.626034  6.809325  \n",
       "2473   7.626034  6.349655  \n",
       "\n",
       "[5 rows x 71 columns]"
      ]
     },
     "execution_count": 49,
     "metadata": {},
     "output_type": "execute_result"
    }
   ],
   "source": [
    "X_train_enc.head()"
   ]
  },
  {
   "cell_type": "code",
   "execution_count": 50,
   "metadata": {},
   "outputs": [
    {
     "data": {
      "text/html": [
       "<div>\n",
       "<style scoped>\n",
       "    .dataframe tbody tr th:only-of-type {\n",
       "        vertical-align: middle;\n",
       "    }\n",
       "\n",
       "    .dataframe tbody tr th {\n",
       "        vertical-align: top;\n",
       "    }\n",
       "\n",
       "    .dataframe thead th {\n",
       "        text-align: right;\n",
       "    }\n",
       "</style>\n",
       "<table border=\"1\" class=\"dataframe\">\n",
       "  <thead>\n",
       "    <tr style=\"text-align: right;\">\n",
       "      <th></th>\n",
       "      <th>Year</th>\n",
       "      <th>Kilometers_Driven</th>\n",
       "      <th>Engine</th>\n",
       "      <th>Power</th>\n",
       "      <th>Seats</th>\n",
       "      <th>Location_Fuel_Type</th>\n",
       "      <th>Location_Transmission</th>\n",
       "      <th>Location_Owner_Type</th>\n",
       "      <th>Location_Brand</th>\n",
       "      <th>Owner_Type_Brand</th>\n",
       "      <th>...</th>\n",
       "      <th>Brand_Porsche</th>\n",
       "      <th>Brand_Renault</th>\n",
       "      <th>Brand_Skoda</th>\n",
       "      <th>Brand_Smart</th>\n",
       "      <th>Brand_Tata</th>\n",
       "      <th>Brand_Toyota</th>\n",
       "      <th>Brand_Volkswagen</th>\n",
       "      <th>Brand_Volvo</th>\n",
       "      <th>Model_enc</th>\n",
       "      <th>Type_enc</th>\n",
       "    </tr>\n",
       "  </thead>\n",
       "  <tbody>\n",
       "    <tr>\n",
       "      <th>245</th>\n",
       "      <td>2007</td>\n",
       "      <td>72000</td>\n",
       "      <td>1086.0</td>\n",
       "      <td>82.0</td>\n",
       "      <td>5.0</td>\n",
       "      <td>30</td>\n",
       "      <td>19</td>\n",
       "      <td>31</td>\n",
       "      <td>212</td>\n",
       "      <td>62</td>\n",
       "      <td>...</td>\n",
       "      <td>0.0</td>\n",
       "      <td>0.0</td>\n",
       "      <td>0.0</td>\n",
       "      <td>0.0</td>\n",
       "      <td>0.0</td>\n",
       "      <td>0.0</td>\n",
       "      <td>0.0</td>\n",
       "      <td>0.0</td>\n",
       "      <td>1.791967</td>\n",
       "      <td>1.738571</td>\n",
       "    </tr>\n",
       "    <tr>\n",
       "      <th>2175</th>\n",
       "      <td>2013</td>\n",
       "      <td>70961</td>\n",
       "      <td>1498.0</td>\n",
       "      <td>98.6</td>\n",
       "      <td>5.0</td>\n",
       "      <td>18</td>\n",
       "      <td>13</td>\n",
       "      <td>19</td>\n",
       "      <td>142</td>\n",
       "      <td>8</td>\n",
       "      <td>...</td>\n",
       "      <td>0.0</td>\n",
       "      <td>0.0</td>\n",
       "      <td>0.0</td>\n",
       "      <td>0.0</td>\n",
       "      <td>0.0</td>\n",
       "      <td>0.0</td>\n",
       "      <td>0.0</td>\n",
       "      <td>0.0</td>\n",
       "      <td>4.766282</td>\n",
       "      <td>3.978158</td>\n",
       "    </tr>\n",
       "    <tr>\n",
       "      <th>4134</th>\n",
       "      <td>2016</td>\n",
       "      <td>34004</td>\n",
       "      <td>1497.0</td>\n",
       "      <td>117.3</td>\n",
       "      <td>7.0</td>\n",
       "      <td>4</td>\n",
       "      <td>3</td>\n",
       "      <td>2</td>\n",
       "      <td>23</td>\n",
       "      <td>8</td>\n",
       "      <td>...</td>\n",
       "      <td>0.0</td>\n",
       "      <td>0.0</td>\n",
       "      <td>0.0</td>\n",
       "      <td>0.0</td>\n",
       "      <td>0.0</td>\n",
       "      <td>0.0</td>\n",
       "      <td>0.0</td>\n",
       "      <td>0.0</td>\n",
       "      <td>8.579124</td>\n",
       "      <td>9.060769</td>\n",
       "    </tr>\n",
       "    <tr>\n",
       "      <th>4975</th>\n",
       "      <td>2016</td>\n",
       "      <td>41810</td>\n",
       "      <td>1373.0</td>\n",
       "      <td>91.1</td>\n",
       "      <td>5.0</td>\n",
       "      <td>10</td>\n",
       "      <td>7</td>\n",
       "      <td>10</td>\n",
       "      <td>77</td>\n",
       "      <td>16</td>\n",
       "      <td>...</td>\n",
       "      <td>0.0</td>\n",
       "      <td>0.0</td>\n",
       "      <td>0.0</td>\n",
       "      <td>0.0</td>\n",
       "      <td>0.0</td>\n",
       "      <td>0.0</td>\n",
       "      <td>0.0</td>\n",
       "      <td>0.0</td>\n",
       "      <td>7.626034</td>\n",
       "      <td>6.809325</td>\n",
       "    </tr>\n",
       "    <tr>\n",
       "      <th>2473</th>\n",
       "      <td>2018</td>\n",
       "      <td>68737</td>\n",
       "      <td>1248.0</td>\n",
       "      <td>88.5</td>\n",
       "      <td>5.0</td>\n",
       "      <td>9</td>\n",
       "      <td>7</td>\n",
       "      <td>10</td>\n",
       "      <td>77</td>\n",
       "      <td>16</td>\n",
       "      <td>...</td>\n",
       "      <td>0.0</td>\n",
       "      <td>0.0</td>\n",
       "      <td>0.0</td>\n",
       "      <td>0.0</td>\n",
       "      <td>0.0</td>\n",
       "      <td>0.0</td>\n",
       "      <td>0.0</td>\n",
       "      <td>0.0</td>\n",
       "      <td>7.626034</td>\n",
       "      <td>6.349655</td>\n",
       "    </tr>\n",
       "  </tbody>\n",
       "</table>\n",
       "<p>5 rows × 63 columns</p>\n",
       "</div>"
      ],
      "text/plain": [
       "      Year  Kilometers_Driven  Engine  Power  Seats  Location_Fuel_Type  \\\n",
       "245   2007              72000  1086.0   82.0    5.0                  30   \n",
       "2175  2013              70961  1498.0   98.6    5.0                  18   \n",
       "4134  2016              34004  1497.0  117.3    7.0                   4   \n",
       "4975  2016              41810  1373.0   91.1    5.0                  10   \n",
       "2473  2018              68737  1248.0   88.5    5.0                   9   \n",
       "\n",
       "      Location_Transmission  Location_Owner_Type  Location_Brand  \\\n",
       "245                      19                   31             212   \n",
       "2175                     13                   19             142   \n",
       "4134                      3                    2              23   \n",
       "4975                      7                   10              77   \n",
       "2473                      7                   10              77   \n",
       "\n",
       "      Owner_Type_Brand  ...  Brand_Porsche  Brand_Renault  Brand_Skoda  \\\n",
       "245                 62  ...            0.0            0.0          0.0   \n",
       "2175                 8  ...            0.0            0.0          0.0   \n",
       "4134                 8  ...            0.0            0.0          0.0   \n",
       "4975                16  ...            0.0            0.0          0.0   \n",
       "2473                16  ...            0.0            0.0          0.0   \n",
       "\n",
       "      Brand_Smart  Brand_Tata  Brand_Toyota  Brand_Volkswagen  Brand_Volvo  \\\n",
       "245           0.0         0.0           0.0               0.0          0.0   \n",
       "2175          0.0         0.0           0.0               0.0          0.0   \n",
       "4134          0.0         0.0           0.0               0.0          0.0   \n",
       "4975          0.0         0.0           0.0               0.0          0.0   \n",
       "2473          0.0         0.0           0.0               0.0          0.0   \n",
       "\n",
       "      Model_enc  Type_enc  \n",
       "245    1.791967  1.738571  \n",
       "2175   4.766282  3.978158  \n",
       "4134   8.579124  9.060769  \n",
       "4975   7.626034  6.809325  \n",
       "2473   7.626034  6.349655  \n",
       "\n",
       "[5 rows x 63 columns]"
      ]
     },
     "execution_count": 50,
     "metadata": {},
     "output_type": "execute_result"
    }
   ],
   "source": [
    "pcorr = X_train_enc.join(y_train).corr()\n",
    "imp_corr_cols = pcorr[['Price']][pcorr['Price']>-0.25].iloc[:-1].index\n",
    "\n",
    "X_train_enc = X_train_enc[imp_corr_cols]\n",
    "X_test_enc = X_test_enc[imp_corr_cols]\n",
    "X_train_enc.head()"
   ]
  },
  {
   "cell_type": "code",
   "execution_count": 51,
   "metadata": {},
   "outputs": [],
   "source": [
    "from xgboost import XGBRegressor"
   ]
  },
  {
   "cell_type": "code",
   "execution_count": 62,
   "metadata": {},
   "outputs": [
    {
     "data": {
      "text/plain": [
       "0.9103538730991136"
      ]
     },
     "execution_count": 62,
     "metadata": {},
     "output_type": "execute_result"
    }
   ],
   "source": [
    "base_xgbr = XGBRegressor(objective='reg:squarederror', tree_method='hist')\n",
    "base_xgbr.fit(X_train_enc,y_train)\n",
    "\n",
    "base_xgbr.score(X_test_enc,y_test) #r2 score"
   ]
  },
  {
   "cell_type": "code",
   "execution_count": 53,
   "metadata": {},
   "outputs": [
    {
     "name": "stdout",
     "output_type": "stream",
     "text": [
      "3.654495054037329\n"
     ]
    },
    {
     "data": {
      "text/plain": [
       "<matplotlib.axes._subplots.AxesSubplot at 0x7f44805aa710>"
      ]
     },
     "execution_count": 53,
     "metadata": {},
     "output_type": "execute_result"
    },
    {
     "data": {
      "image/png": "[encoded data removed]",
      "text/plain": [
       "<Figure size 432x288 with 1 Axes>"
      ]
     },
     "metadata": {
      "needs_background": "light"
     },
     "output_type": "display_data"
    }
   ],
   "source": [
    "yhat_xgbr = base_xgbr.predict(X_test_enc)\n",
    "print(mean_squared_error(y_test, yhat_xgbr,squared = False))\n",
    "sns.kdeplot(y_test)\n",
    "sns.kdeplot(yhat_xgbr)"
   ]
  },
  {
   "cell_type": "code",
   "execution_count": 54,
   "metadata": {},
   "outputs": [
    {
     "data": {
      "text/plain": [
       "<matplotlib.axes._subplots.AxesSubplot at 0x7f448081e6d0>"
      ]
     },
     "execution_count": 54,
     "metadata": {},
     "output_type": "execute_result"
    },
    {
     "data": {
      "image/png": "[encoded data removed]",
      "text/plain": [
       "<Figure size 432x288 with 2 Axes>"
      ]
     },
     "metadata": {
      "needs_background": "light"
     },
     "output_type": "display_data"
    }
   ],
   "source": [
    "feat_imp = pd.DataFrame(base_xgbr.feature_importances_, index=X_train_enc.columns)\n",
    "sns.heatmap(feat_imp, cmap='Purples')"
   ]
  },
  {
   "cell_type": "code",
   "execution_count": null,
   "metadata": {},
   "outputs": [],
   "source": []
  },
  {
   "cell_type": "code",
   "execution_count": 55,
   "metadata": {},
   "outputs": [
    {
     "data": {
      "text/plain": [
       "Year                 0.042067\n",
       "Kilometers_Driven    0.016122\n",
       "Engine               0.008582\n",
       "Power                0.244379\n",
       "Seats                0.004545\n",
       "dtype: float32"
      ]
     },
     "execution_count": 55,
     "metadata": {},
     "output_type": "execute_result"
    }
   ],
   "source": [
    "impfeat = pd.Series(base_xgbr.feature_importances_, index=X_train_enc.columns)\n",
    "impcols = impfeat[impfeat>0.005].index\n",
    "impfeat.head()"
   ]
  },
  {
   "cell_type": "code",
   "execution_count": null,
   "metadata": {},
   "outputs": [],
   "source": []
  },
  {
   "cell_type": "code",
   "execution_count": 56,
   "metadata": {},
   "outputs": [],
   "source": [
    "X_train_enc = X_train_enc[impcols]\n",
    "X_test_enc = X_test_enc[impcols]"
   ]
  },
  {
   "cell_type": "code",
   "execution_count": 57,
   "metadata": {},
   "outputs": [],
   "source": [
    "from lightgbm import LGBMRegressor"
   ]
  },
  {
   "cell_type": "code",
   "execution_count": 58,
   "metadata": {},
   "outputs": [
    {
     "data": {
      "text/plain": [
       "0.9108067016053222"
      ]
     },
     "execution_count": 58,
     "metadata": {},
     "output_type": "execute_result"
    }
   ],
   "source": [
    "base_lgbmr = LGBMRegressor()\n",
    "base_lgbmr.fit(X_train_enc, y_train)\n",
    "base_lgbmr.score(X_test_enc,y_test)"
   ]
  },
  {
   "cell_type": "code",
   "execution_count": 59,
   "metadata": {},
   "outputs": [
    {
     "name": "stdout",
     "output_type": "stream",
     "text": [
      "3.4092659789585302\n"
     ]
    },
    {
     "data": {
      "text/plain": [
       "<matplotlib.axes._subplots.AxesSubplot at 0x7f4480713f50>"
      ]
     },
     "execution_count": 59,
     "metadata": {},
     "output_type": "execute_result"
    },
    {
     "data": {
      "image/png": "[encoded data removed]",
      "text/plain": [
       "<Figure size 432x288 with 1 Axes>"
      ]
     },
     "metadata": {
      "needs_background": "light"
     },
     "output_type": "display_data"
    }
   ],
   "source": [
    "yhat_lgbmr = base_lgbmr.predict(X_test_enc)\n",
    "print(mean_squared_error(y_test, yhat_lgbmr, squared=False))\n",
    "sns.kdeplot(y_test)\n",
    "sns.kdeplot(yhat_lgbmr)"
   ]
  },
  {
   "cell_type": "markdown",
   "metadata": {},
   "source": [
    "#initial grid search\n",
    "param_grid = {\n",
    "    \"learning_rate\": [0.15],\n",
    "    \"max_depth\": [5,8,10,12],\n",
    "    \"min_child_weight\": [3,5,6,8],\n",
    "    \"n_estimators\": [300,500,800,1000,1200],\n",
    "    \"num_leaves\": [20,25,40,50],\n",
    "    \"subsample\": [0.3,0.5]\n",
    "}\n",
    "gscv_lgbm = GridSearchCV(estimator=base_lgbmr, param_grid=param_grid, n_jobs=-1, verbose=5, cv=4)"
   ]
  },
  {
   "cell_type": "markdown",
   "metadata": {},
   "source": [
    "gscv_lgbm.fit(X_train_enc, y_train)\n",
    "gscv_lgbm.best_params_\n",
    "gscv_lgbm.score(X_test_enc,y_test) #r2 score"
   ]
  },
  {
   "cell_type": "markdown",
   "metadata": {},
   "source": [
    "gscv_lgbm.best_params_"
   ]
  },
  {
   "cell_type": "code",
   "execution_count": 312,
   "metadata": {},
   "outputs": [],
   "source": [
    "param_grid2 ={\n",
    "    \"learning_rate\": [0.15],\n",
    "    \"max_depth\": [5],\n",
    "    \"n_estimators\": [1500],\n",
    "    \"num_leaves\": [27],\n",
    "    'reg_alpha': [0.001],\n",
    "    'reg_lambda': [0]\n",
    "}\n",
    "gscv_lgbm2 = GridSearchCV(estimator=base_lgbmr, param_grid=param_grid2, n_jobs=-1, verbose=5, cv=4)"
   ]
  },
  {
   "cell_type": "code",
   "execution_count": 313,
   "metadata": {},
   "outputs": [
    {
     "name": "stdout",
     "output_type": "stream",
     "text": [
      "Fitting 4 folds for each of 1 candidates, totalling 4 fits\n"
     ]
    },
    {
     "name": "stderr",
     "output_type": "stream",
     "text": [
      "[Parallel(n_jobs=-1)]: Using backend LokyBackend with 8 concurrent workers.\n",
      "[Parallel(n_jobs=-1)]: Done   2 out of   4 | elapsed:    1.0s remaining:    1.0s\n",
      "[Parallel(n_jobs=-1)]: Done   4 out of   4 | elapsed:    1.0s remaining:    0.0s\n",
      "[Parallel(n_jobs=-1)]: Done   4 out of   4 | elapsed:    1.0s finished\n"
     ]
    },
    {
     "data": {
      "text/plain": [
       "GridSearchCV(cv=4, error_score=nan,\n",
       "             estimator=LGBMRegressor(boosting_type='gbdt', class_weight=None,\n",
       "                                     colsample_bytree=1.0,\n",
       "                                     importance_type='split', learning_rate=0.1,\n",
       "                                     max_depth=-1, min_child_samples=20,\n",
       "                                     min_child_weight=0.001, min_split_gain=0.0,\n",
       "                                     n_estimators=100, n_jobs=-1, num_leaves=31,\n",
       "                                     objective=None, random_state=None,\n",
       "                                     reg_alpha=0.0, reg_lambda=0.0, silent=True,\n",
       "                                     subsample=1.0, subsample_for_bin=200000,\n",
       "                                     subsample_freq=0),\n",
       "             iid='deprecated', n_jobs=-1,\n",
       "             param_grid={'learning_rate': [0.15], 'max_depth': [5],\n",
       "                         'n_estimators': [1500], 'num_leaves': [27],\n",
       "                         'reg_alpha': [0.001], 'reg_lambda': [0]},\n",
       "             pre_dispatch='2*n_jobs', refit=True, return_train_score=False,\n",
       "             scoring=None, verbose=5)"
      ]
     },
     "execution_count": 313,
     "metadata": {},
     "output_type": "execute_result"
    }
   ],
   "source": [
    "gscv_lgbm2.fit(X_train_enc, y_train)"
   ]
  },
  {
   "cell_type": "code",
   "execution_count": 314,
   "metadata": {},
   "outputs": [
    {
     "name": "stdout",
     "output_type": "stream",
     "text": [
      "{'learning_rate': 0.15, 'max_depth': 5, 'n_estimators': 1500, 'num_leaves': 27, 'reg_alpha': 0.001, 'reg_lambda': 0}\n",
      "0.9229145864591319\n"
     ]
    }
   ],
   "source": [
    "print(gscv_lgbm2.best_params_)\n",
    "print(gscv_lgbm2.score(X_test_enc,y_test)) #r2 score"
   ]
  },
  {
   "cell_type": "code",
   "execution_count": 308,
   "metadata": {},
   "outputs": [
    {
     "data": {
      "text/plain": [
       "0.9229145864591319"
      ]
     },
     "execution_count": 308,
     "metadata": {},
     "output_type": "execute_result"
    }
   ],
   "source": [
    "tuned_lgbmr = LGBMRegressor(**gscv_lgbm2.best_params_)\n",
    "tuned_lgbmr.fit(X_train_enc, y_train)\n",
    "tuned_lgbmr.score(X_test_enc,y_test)"
   ]
  },
  {
   "cell_type": "code",
   "execution_count": 309,
   "metadata": {},
   "outputs": [
    {
     "name": "stdout",
     "output_type": "stream",
     "text": [
      "10.045273170307286\n"
     ]
    },
    {
     "data": {
      "text/plain": [
       "<matplotlib.axes._subplots.AxesSubplot at 0x7f9dd28a12d0>"
      ]
     },
     "execution_count": 309,
     "metadata": {},
     "output_type": "execute_result"
    },
    {
     "data": {
      "image/png": "[encoded data removed]",
      "text/plain": [
       "<Figure size 432x288 with 1 Axes>"
      ]
     },
     "metadata": {
      "needs_background": "light"
     },
     "output_type": "display_data"
    }
   ],
   "source": [
    "yhat_lgbmr = tuned_lgbmr.predict(X_test_enc)\n",
    "print(mean_squared_error(y_test, yhat_lgbmr))\n",
    "sns.kdeplot(y_test)\n",
    "sns.kdeplot(yhat_lgbmr)"
   ]
  },
  {
   "cell_type": "code",
   "execution_count": 362,
   "metadata": {},
   "outputs": [
    {
     "name": "stdout",
     "output_type": "stream",
     "text": [
      "0.9092303350345442 1.342623114934346 11.828516424470678\n"
     ]
    }
   ],
   "source": [
    "\n",
    "rfr = RandomForestRegressor(n_estimators = 100,random_state=0)\n",
    "rfr.fit(X_train_enc,y_train)\n",
    "\n",
    "pred = rfr.predict(X_test_enc)\n",
    "\n",
    "print(r2_score(y_test,pred),mean_absolute_error(y_test,pred),mean_squared_error(y_test,pred))"
   ]
  },
  {
   "cell_type": "code",
   "execution_count": null,
   "metadata": {},
   "outputs": [],
   "source": []
  }
 ],
 "metadata": {
  "kernelspec": {
   "display_name": "Python 3",
   "language": "python",
   "name": "python3"
  },
  "language_info": {
   "codemirror_mode": {
    "name": "ipython",
    "version": 3
   },
   "file_extension": ".py",
   "mimetype": "text/x-python",
   "name": "python",
   "nbconvert_exporter": "python",
   "pygments_lexer": "ipython3",
   "version": "3.7.6"
  }
 },
 "nbformat": 4,
 "nbformat_minor": 4
}
